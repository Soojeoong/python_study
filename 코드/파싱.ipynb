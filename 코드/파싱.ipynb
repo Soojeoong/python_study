{
 "cells": [
  {
   "cell_type": "markdown",
   "id": "227f927d",
   "metadata": {},
   "source": [
    "# 👉문자열 추출"
   ]
  },
  {
   "cell_type": "markdown",
   "id": "d3124731",
   "metadata": {},
   "source": [
    "## 1. 파싱할 HTML 코드를 변수 html_code에 넣기"
   ]
  },
  {
   "cell_type": "markdown",
   "id": "a952a223",
   "metadata": {},
   "source": [
    "- \"\"\"하나의 문자열\"\"\""
   ]
  },
  {
   "cell_type": "code",
   "execution_count": 1,
   "id": "9e0a0d92",
   "metadata": {},
   "outputs": [],
   "source": [
    "html_code = \"\"\"<!DOCTYPE html>\n",
    "<html>\n",
    "<head>\n",
    "    <title>Sample Website</title>\n",
    "</head>\n",
    "<body>\n",
    "<h2>HTML 연습!</h2>\n",
    "\n",
    "<p>이것은 첫 번째 문단입니다.</p>\n",
    "<p>이것은 두 번째 문단입니다!</p>\n",
    "\n",
    "<ul>\n",
    "    <li>커피</li>\n",
    "    <li>녹차</li>\n",
    "    <li>우유</li>\n",
    "</ul>\n",
    "\n",
    "<img src='https://i.imgur.com/bY0l0PC.jpg' alt=\"coffee\"/>\n",
    "<img src='https://i.imgur.com/fvJLWdV.jpg' alt=\"green-tea\"/>\n",
    "<img src='https://i.imgur.com/rNOIbNt.jpg' alt=\"milk\"/>\n",
    "\n",
    "</body>\n",
    "</html>\"\"\""
   ]
  },
  {
   "cell_type": "markdown",
   "id": "bded04e5",
   "metadata": {},
   "source": [
    "## 2. BeautifulSoup 타입 만들기"
   ]
  },
  {
   "cell_type": "code",
   "execution_count": 2,
   "id": "b887ca11",
   "metadata": {},
   "outputs": [],
   "source": [
    "from bs4 import BeautifulSoup"
   ]
  },
  {
   "cell_type": "code",
   "execution_count": 3,
   "id": "0c2802d9",
   "metadata": {},
   "outputs": [
    {
     "name": "stdout",
     "output_type": "stream",
     "text": [
      "<class 'bs4.BeautifulSoup'>\n"
     ]
    }
   ],
   "source": [
    "# BeautifulSoup 타입으로 변환\n",
    "soup = BeautifulSoup(html_code, 'html.parser')\n",
    "\n",
    "# type 출력\n",
    "print(type(soup))"
   ]
  },
  {
   "cell_type": "markdown",
   "id": "e46e69f5",
   "metadata": {},
   "source": [
    "## 3. 특정 태그 선택하기"
   ]
  },
  {
   "cell_type": "code",
   "execution_count": 4,
   "id": "7dd688f9",
   "metadata": {},
   "outputs": [
    {
     "name": "stdout",
     "output_type": "stream",
     "text": [
      "[<li>커피</li>, <li>녹차</li>, <li>우유</li>]\n"
     ]
    }
   ],
   "source": [
    "# 모든 <li> 태그 선택하기\n",
    "li_tags = soup.select('li')\n",
    "\n",
    "# 결과 출력\n",
    "print(li_tags)"
   ]
  },
  {
   "cell_type": "code",
   "execution_count": 5,
   "id": "9c2822c6",
   "metadata": {},
   "outputs": [
    {
     "name": "stdout",
     "output_type": "stream",
     "text": [
      "<li>커피</li>\n"
     ]
    }
   ],
   "source": [
    "# 첫 번째 요소 출력하기\n",
    "print(li_tags[0])"
   ]
  },
  {
   "cell_type": "markdown",
   "id": "433462f2",
   "metadata": {},
   "source": [
    "## 4. 태그에서 문자열 추출하기"
   ]
  },
  {
   "cell_type": "code",
   "execution_count": 6,
   "id": "9140c434",
   "metadata": {},
   "outputs": [
    {
     "name": "stdout",
     "output_type": "stream",
     "text": [
      "<class 'bs4.element.Tag'>\n"
     ]
    }
   ],
   "source": [
    "# 첫 번째 요소 type 출력하기\n",
    "print(type(li_tags[0]))"
   ]
  },
  {
   "cell_type": "code",
   "execution_count": 7,
   "id": "0c704146",
   "metadata": {},
   "outputs": [
    {
     "name": "stdout",
     "output_type": "stream",
     "text": [
      "커피\n"
     ]
    }
   ],
   "source": [
    "# 첫 번째 <li> 태그의 텍스트 출력하기\n",
    "print(li_tags[0].text)"
   ]
  },
  {
   "cell_type": "code",
   "execution_count": 8,
   "id": "5cead389",
   "metadata": {},
   "outputs": [
    {
     "name": "stdout",
     "output_type": "stream",
     "text": [
      "['커피', '녹차', '우유']\n"
     ]
    }
   ],
   "source": [
    "# 모든 <li> 태그 선택하기\n",
    "li_tags = soup.select('li')\n",
    "\n",
    "# 빈 리스트 만들기\n",
    "beverage_names = []\n",
    "\n",
    "# 텍스트 추출해서 리스트에 담기\n",
    "for li in li_tags:\n",
    "    beverage_names.append(li.text)\n",
    "\n",
    "# 결과 출력\n",
    "print(beverage_names)"
   ]
  },
  {
   "cell_type": "markdown",
   "id": "c77be1eb",
   "metadata": {},
   "source": [
    "### 전체 코드 정리"
   ]
  },
  {
   "cell_type": "code",
   "execution_count": 9,
   "id": "cb12f304",
   "metadata": {},
   "outputs": [
    {
     "name": "stdout",
     "output_type": "stream",
     "text": [
      "['커피', '녹차', '우유']\n"
     ]
    }
   ],
   "source": [
    "# 전체 코드\n",
    "from bs4 import BeautifulSoup\n",
    "\n",
    "html_code = \"\"\"<!DOCTYPE html>\n",
    "<html>\n",
    "<head>\n",
    "    <title>Sample Website</title>\n",
    "</head>\n",
    "<body>\n",
    "<h2>HTML 연습!</h2>\n",
    "\n",
    "<p>이것은 첫 번째 문단입니다.</p>\n",
    "<p>이것은 두 번째 문단입니다!</p>\n",
    "\n",
    "<ul>\n",
    "    <li>커피</li>\n",
    "    <li>녹차</li>\n",
    "    <li>우유</li>\n",
    "</ul>\n",
    "\n",
    "<img src='https://i.imgur.com/bY0l0PC.jpg' alt=\"coffee\"/>\n",
    "<img src='https://i.imgur.com/fvJLWdV.jpg' alt=\"green-tea\"/>\n",
    "<img src='https://i.imgur.com/rNOIbNt.jpg' alt=\"milk\"/>\n",
    "\n",
    "</body>\n",
    "</html>\"\"\"\n",
    "\n",
    "# BeautifulSoup 타입으로 변환\n",
    "soup = BeautifulSoup(html_code, 'html.parser')\n",
    "\n",
    "# 모든 <li> 태그 선택하기\n",
    "li_tags = soup.select('li')\n",
    "\n",
    "# 빈 리스트 만들기\n",
    "beverage_names = []\n",
    "\n",
    "# 텍스트 추출해서 리스트에 담기\n",
    "for li in li_tags:\n",
    "    beverage_names.append(li.text)\n",
    "\n",
    "# 결과 출력\n",
    "print(beverage_names)"
   ]
  },
  {
   "cell_type": "markdown",
   "id": "2643ae92",
   "metadata": {},
   "source": [
    "---"
   ]
  },
  {
   "cell_type": "markdown",
   "id": "e8097c2a",
   "metadata": {},
   "source": [
    "# 👉태그의 속성 값 추출"
   ]
  },
  {
   "cell_type": "code",
   "execution_count": 10,
   "id": "3063cbe7",
   "metadata": {
    "scrolled": true
   },
   "outputs": [
    {
     "name": "stdout",
     "output_type": "stream",
     "text": [
      "['https://i.imgur.com/bY0l0PC.jpg', 'https://i.imgur.com/fvJLWdV.jpg', 'https://i.imgur.com/rNOIbNt.jpg']\n"
     ]
    }
   ],
   "source": [
    "from bs4 import BeautifulSoup\n",
    "\n",
    "html_code = \"\"\"<!DOCTYPE html>\n",
    "<html>\n",
    "<head>\n",
    "    <title>Sample Website</title>\n",
    "</head>\n",
    "<body>\n",
    "<h2>HTML 연습!</h2>\n",
    "\n",
    "<p>이것은 첫 번째 문단입니다.</p>\n",
    "<p>이것은 두 번째 문단입니다!</p>\n",
    "\n",
    "<ul>\n",
    "    <li>커피</li>\n",
    "    <li>녹차</li>\n",
    "    <li>우유</li>\n",
    "</ul>\n",
    "\n",
    "<img src='https://i.imgur.com/bY0l0PC.jpg' alt=\"coffee\"/>\n",
    "<img src='https://i.imgur.com/fvJLWdV.jpg' alt=\"green-tea\"/>\n",
    "<img src='https://i.imgur.com/rNOIbNt.jpg' alt=\"milk\"/>\n",
    "\n",
    "</body>\n",
    "</html>\"\"\"\n",
    "\n",
    "# BeautifulSoup 타입으로 변환\n",
    "soup = BeautifulSoup(html_code, 'html.parser')\n",
    "\n",
    "# 모든 <img> 태그 선택하기\n",
    "img_tags = soup.select('img')\n",
    "\n",
    "# 빈 리스트 만들기\n",
    "img_srcs = []\n",
    "\n",
    "# 이미지 주소 추출해서 리스트에 담기\n",
    "for img in img_tags:\n",
    "    img_srcs.append(img[\"src\"])\n",
    "\n",
    "# 결과 출력\n",
    "print(img_srcs)"
   ]
  },
  {
   "cell_type": "markdown",
   "id": "da053ed6",
   "metadata": {},
   "source": [
    "# 👉인기 아티스트 추출"
   ]
  },
  {
   "cell_type": "code",
   "execution_count": 11,
   "id": "6730e5d3",
   "metadata": {},
   "outputs": [
    {
     "name": "stdout",
     "output_type": "stream",
     "text": [
      "['1 아이유 (IU)', '2 방탄소년단', '3 Red Velvet (레드벨벳)', '4 IKON', '5 멜로망스', '6 다비치', '7 윤딴딴', '8 수지 (SUZY)', '9 김동률', '10 폴킴']\n"
     ]
    }
   ],
   "source": [
    "import requests\n",
    "from bs4 import BeautifulSoup\n",
    "\n",
    "# HTML 코드 받아오기\n",
    "response = requests.get(\"https://workey.codeit.kr/music/index\")\n",
    "\n",
    "# BeautifulSoup 타입으로 변환\n",
    "soup = BeautifulSoup(response.text, 'html.parser')\n",
    "\n",
    "# \"popular__order\" 클래스를 가진 태그에 중첩된 모든 <li> 태그 선택\n",
    "li_tags = soup.select(\".popular__order li\")\n",
    "\n",
    "# 빈 리스트 생성\n",
    "popular_artists = []\n",
    "\n",
    "# 텍스트 추출해서 리스트에 담기\n",
    "for li in li_tags:\n",
    "    popular_artists.append(li.text.strip())\n",
    "\n",
    "# 결과 출력\n",
    "print(popular_artists)"
   ]
  },
  {
   "cell_type": "markdown",
   "id": "fe0d76c3",
   "metadata": {},
   "source": [
    "# 👉웹페이지 -> DataFrame"
   ]
  },
  {
   "cell_type": "code",
   "execution_count": null,
   "id": "1b5c16dd",
   "metadata": {},
   "outputs": [],
   "source": [
    "import time\n",
    "import pandas as pd\n",
    "import requests\n",
    "from bs4 import BeautifulSoup\n",
    "\n",
    "# 빈 리스트 생성\n",
    "records = []\n",
    "\n",
    "# 시작 페이지 지정\n",
    "page_num = 1\n",
    "\n",
    "while True:\n",
    "    # HTML 코드 받아오기\n",
    "    response = requests.get(\"http://www.ssg.com/search.ssg?target=all&query=nintendo&page=\" + str(page_num))\n",
    "\n",
    "    # BeautifulSoup 타입으로 변형하기\n",
    "    soup = BeautifulSoup(response.text, 'html.parser')\n",
    "\n",
    "    # \"prodName\" 클래스가 있을 때만 상품 정보 가져오기\n",
    "    if len(soup.select('.csrch_tip')) == 0:\n",
    "        product_names = soup.select('.cunit_info > div.cunit_md.notranslate > div > a > em.tx_ko')\n",
    "        product_prices = soup.select('.cunit_info > div.cunit_price.notranslate > div.opt_price > em')\n",
    "        product_urls = soup.select('.cunit_prod > div.thmb > a > img')\n",
    "        page_num += 1\n",
    "        time.sleep(3)\n",
    "        \n",
    "        # 상품의 정보를 하나의 레코드로 만들고, 리스트에 순서대로 추가하기\n",
    "        for i in range(len(product_names)):\n",
    "            record = []\n",
    "            record.append(product_names[i].text)\n",
    "            record.append(product_prices[i].text.strip())\n",
    "            record.append(\"https://www.ssg.com\" + product_urls[i].get('src'))\n",
    "            records.append(record)\n",
    "    else:\n",
    "        break\n",
    "\n",
    "# DataFrame 만들기\n",
    "df = pd.DataFrame(data = records, columns = [\"이름\", \"가격\", \"이미지 주소\"])\n",
    "\n",
    "# DataFrame 출력\n",
    "df.head()"
   ]
  }
 ],
 "metadata": {
  "kernelspec": {
   "display_name": "Python 3 (ipykernel)",
   "language": "python",
   "name": "python3"
  },
  "language_info": {
   "codemirror_mode": {
    "name": "ipython",
    "version": 3
   },
   "file_extension": ".py",
   "mimetype": "text/x-python",
   "name": "python",
   "nbconvert_exporter": "python",
   "pygments_lexer": "ipython3",
   "version": "3.9.7"
  }
 },
 "nbformat": 4,
 "nbformat_minor": 5
}
